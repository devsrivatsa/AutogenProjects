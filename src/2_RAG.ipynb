{
 "cells": [
  {
   "cell_type": "code",
   "execution_count": 1,
   "id": "74ace048-f7a3-4678-af9d-50ceb31e0cc2",
   "metadata": {},
   "outputs": [],
   "source": [
    "import autogen\n",
    "from autogen.retrieve_utils import TEXT_FORMATS"
   ]
  },
  {
   "cell_type": "code",
   "execution_count": 2,
   "id": "e62ea420-bc80-43cf-8f75-74f95fea413f",
   "metadata": {},
   "outputs": [
    {
     "name": "stdout",
     "output_type": "stream",
     "text": [
      "Accepted file formats for `docs_path`:\n",
      "['txt', 'json', 'csv', 'tsv', 'md', 'html', 'htm', 'rtf', 'rst', 'jsonl', 'log', 'xml', 'yaml', 'yml', 'pdf']\n"
     ]
    }
   ],
   "source": [
    "print(\"Accepted file formats for `docs_path`:\")\n",
    "print(TEXT_FORMATS)"
   ]
  },
  {
   "cell_type": "code",
   "execution_count": 3,
   "id": "bd659378-1ebf-40dd-b0e3-4112ab64cf98",
   "metadata": {},
   "outputs": [],
   "source": [
    "from autogen.agentchat.contrib.retrieve_assistant_agent import RetrieveAssistantAgent\n",
    "from autogen.agentchat.contrib.retrieve_user_proxy_agent import RetrieveUserProxyAgent"
   ]
  },
  {
   "cell_type": "code",
   "execution_count": null,
   "id": "47090929-816f-45e0-a5b2-4cd278b5a026",
   "metadata": {},
   "outputs": [],
   "source": [
    "assistant = RetrieveAssistantAgent(\n",
    "    name=\"Assistant\",\n",
    "    system_message=\"You are a helpful assistant\",\n",
    "    llm_config={\n",
    "        \"cache_seed\":42,\n",
    "        \"config_list\"=config_list,\n",
    "        \"timeout\": 600\n",
    "    }\n",
    ")\n",
    "\n",
    "ragproxyagent = RetrieveUserProxyAgent(\n",
    "    name=\"ragproxyagent\",\n",
    "    human_input_mode=\"NEVER\",\n",
    "    max_consecutive_auto_reply=10,\n",
    "    retrieve_config={\n",
    "        \"task\":\"code\",\n",
    "        \"docs_path\":\"\",\n",
    "        \"chunk_total_size\":2000,\n",
    "        \"model\":config_list[0][\"model\"],\n",
    "        \"embedding_model\":\"all-mpnet-base-v2\",\n",
    "        \"get_or_create\": True\n",
    "    }\n",
    ")"
   ]
  },
  {
   "cell_type": "code",
   "execution_count": null,
   "id": "0f4b2720-c10f-4be7-8758-4ffa434a703f",
   "metadata": {},
   "outputs": [],
   "source": [
    "assistant.reset()"
   ]
  },
  {
   "cell_type": "code",
   "execution_count": null,
   "id": "43b38b5d-8c37-445a-9e64-1ee65cb16374",
   "metadata": {},
   "outputs": [],
   "source": []
  },
  {
   "cell_type": "code",
   "execution_count": null,
   "id": "ed18a755-8711-404d-bae9-0b191e2ce98a",
   "metadata": {},
   "outputs": [],
   "source": []
  },
  {
   "cell_type": "code",
   "execution_count": null,
   "id": "40e542d4-6c42-48af-bb3c-0406cbebe2f2",
   "metadata": {},
   "outputs": [],
   "source": []
  },
  {
   "cell_type": "code",
   "execution_count": null,
   "id": "58ba5b74-e0dd-4bd3-84a6-578502d72d31",
   "metadata": {},
   "outputs": [],
   "source": []
  },
  {
   "cell_type": "code",
   "execution_count": null,
   "id": "3be74dad-227e-48f8-8c9a-5f95f489b16f",
   "metadata": {},
   "outputs": [],
   "source": []
  },
  {
   "cell_type": "code",
   "execution_count": null,
   "id": "4e7c2979-3769-40b4-ad20-033a979205d6",
   "metadata": {},
   "outputs": [],
   "source": []
  }
 ],
 "metadata": {
  "kernelspec": {
   "display_name": "Python 3 (ipykernel)",
   "language": "python",
   "name": "python3"
  },
  "language_info": {
   "codemirror_mode": {
    "name": "ipython",
    "version": 3
   },
   "file_extension": ".py",
   "mimetype": "text/x-python",
   "name": "python",
   "nbconvert_exporter": "python",
   "pygments_lexer": "ipython3",
   "version": "3.9.13"
  }
 },
 "nbformat": 4,
 "nbformat_minor": 5
}
